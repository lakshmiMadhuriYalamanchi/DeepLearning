{
 "cells": [
  {
   "cell_type": "markdown",
   "metadata": {},
   "source": [
    "# Step 1: Import Libraries"
   ]
  },
  {
   "cell_type": "code",
   "execution_count": 2,
   "metadata": {},
   "outputs": [
    {
     "name": "stdout",
     "output_type": "stream",
     "text": [
      "1.13.1\n"
     ]
    }
   ],
   "source": [
    "from __future__ import absolute_import, division, print_function, unicode_literals\n",
    "import pandas as pd\n",
    "from sklearn import datasets, linear_model\n",
    "from sklearn.model_selection import train_test_split\n",
    "from matplotlib import pyplot as plt\n",
    "# TensorFlow and tf.keras\n",
    "import tensorflow as tf\n",
    "from tensorflow import keras\n",
    "import pandas as pd\n",
    "# Helper libraries\n",
    "import numpy as np\n",
    "import matplotlib.pyplot as plt\n",
    "\n",
    "import warnings\n",
    "warnings.filterwarnings(\"ignore\")\n",
    "\n",
    "print(tf.__version__)"
   ]
  },
  {
   "cell_type": "markdown",
   "metadata": {},
   "source": [
    "# Import data "
   ]
  },
  {
   "cell_type": "code",
   "execution_count": 3,
   "metadata": {},
   "outputs": [],
   "source": [
    "tf.logging.set_verbosity(tf.logging.ERROR)\n",
    "pd.options.display.max_rows = 10\n",
    "pd.options.display.float_format = '{:.1f}'.format\n",
    "\n",
    "raw = pd.read_csv(\"E:/MS/Deep Learning/Assignments/Assignment1/covType.data\",header=None, sep=\",\")\n",
    "\n",
    "raw = raw.reindex(\n",
    "    np.random.permutation(raw.index))\n",
    "\n"
   ]
  },
  {
   "cell_type": "code",
   "execution_count": 19,
   "metadata": {},
   "outputs": [
    {
     "data": {
      "text/plain": [
       "Int64Index([ 0,  1,  2,  3,  4,  5,  6,  7,  8,  9, 10, 11, 12, 13, 14, 15, 16,\n",
       "            17, 18, 19, 20, 21, 22, 23, 24, 25, 26, 27, 28, 29, 30, 31, 32, 33,\n",
       "            34, 35, 36, 37, 38, 39, 40, 41, 42, 43, 44, 45, 46, 47, 48, 49, 50,\n",
       "            51, 52, 53, 54],\n",
       "           dtype='int64')"
      ]
     },
     "execution_count": 19,
     "metadata": {},
     "output_type": "execute_result"
    }
   ],
   "source": [
    "raw.columns"
   ]
  },
  {
   "cell_type": "code",
   "execution_count": 4,
   "metadata": {},
   "outputs": [
    {
     "data": {
      "text/html": [
       "<div>\n",
       "<style scoped>\n",
       "    .dataframe tbody tr th:only-of-type {\n",
       "        vertical-align: middle;\n",
       "    }\n",
       "\n",
       "    .dataframe tbody tr th {\n",
       "        vertical-align: top;\n",
       "    }\n",
       "\n",
       "    .dataframe thead th {\n",
       "        text-align: right;\n",
       "    }\n",
       "</style>\n",
       "<table border=\"1\" class=\"dataframe\">\n",
       "  <thead>\n",
       "    <tr style=\"text-align: right;\">\n",
       "      <th></th>\n",
       "      <th>0</th>\n",
       "      <th>1</th>\n",
       "      <th>2</th>\n",
       "      <th>3</th>\n",
       "      <th>4</th>\n",
       "      <th>5</th>\n",
       "      <th>6</th>\n",
       "      <th>7</th>\n",
       "      <th>8</th>\n",
       "      <th>9</th>\n",
       "      <th>...</th>\n",
       "      <th>45</th>\n",
       "      <th>46</th>\n",
       "      <th>47</th>\n",
       "      <th>48</th>\n",
       "      <th>49</th>\n",
       "      <th>50</th>\n",
       "      <th>51</th>\n",
       "      <th>52</th>\n",
       "      <th>53</th>\n",
       "      <th>54</th>\n",
       "    </tr>\n",
       "  </thead>\n",
       "  <tbody>\n",
       "    <tr>\n",
       "      <th>332328</th>\n",
       "      <td>2804</td>\n",
       "      <td>94</td>\n",
       "      <td>10</td>\n",
       "      <td>108</td>\n",
       "      <td>17</td>\n",
       "      <td>914</td>\n",
       "      <td>236</td>\n",
       "      <td>225</td>\n",
       "      <td>119</td>\n",
       "      <td>2654</td>\n",
       "      <td>...</td>\n",
       "      <td>0</td>\n",
       "      <td>0</td>\n",
       "      <td>0</td>\n",
       "      <td>0</td>\n",
       "      <td>0</td>\n",
       "      <td>0</td>\n",
       "      <td>0</td>\n",
       "      <td>0</td>\n",
       "      <td>0</td>\n",
       "      <td>2</td>\n",
       "    </tr>\n",
       "    <tr>\n",
       "      <th>386804</th>\n",
       "      <td>3209</td>\n",
       "      <td>157</td>\n",
       "      <td>12</td>\n",
       "      <td>484</td>\n",
       "      <td>93</td>\n",
       "      <td>2703</td>\n",
       "      <td>233</td>\n",
       "      <td>242</td>\n",
       "      <td>138</td>\n",
       "      <td>2929</td>\n",
       "      <td>...</td>\n",
       "      <td>0</td>\n",
       "      <td>1</td>\n",
       "      <td>0</td>\n",
       "      <td>0</td>\n",
       "      <td>0</td>\n",
       "      <td>0</td>\n",
       "      <td>0</td>\n",
       "      <td>0</td>\n",
       "      <td>0</td>\n",
       "      <td>2</td>\n",
       "    </tr>\n",
       "    <tr>\n",
       "      <th>271628</th>\n",
       "      <td>2259</td>\n",
       "      <td>24</td>\n",
       "      <td>24</td>\n",
       "      <td>150</td>\n",
       "      <td>54</td>\n",
       "      <td>933</td>\n",
       "      <td>199</td>\n",
       "      <td>181</td>\n",
       "      <td>108</td>\n",
       "      <td>240</td>\n",
       "      <td>...</td>\n",
       "      <td>0</td>\n",
       "      <td>0</td>\n",
       "      <td>0</td>\n",
       "      <td>0</td>\n",
       "      <td>0</td>\n",
       "      <td>0</td>\n",
       "      <td>0</td>\n",
       "      <td>0</td>\n",
       "      <td>0</td>\n",
       "      <td>3</td>\n",
       "    </tr>\n",
       "    <tr>\n",
       "      <th>216289</th>\n",
       "      <td>2727</td>\n",
       "      <td>331</td>\n",
       "      <td>14</td>\n",
       "      <td>85</td>\n",
       "      <td>15</td>\n",
       "      <td>1082</td>\n",
       "      <td>186</td>\n",
       "      <td>222</td>\n",
       "      <td>175</td>\n",
       "      <td>2308</td>\n",
       "      <td>...</td>\n",
       "      <td>0</td>\n",
       "      <td>1</td>\n",
       "      <td>0</td>\n",
       "      <td>0</td>\n",
       "      <td>0</td>\n",
       "      <td>0</td>\n",
       "      <td>0</td>\n",
       "      <td>0</td>\n",
       "      <td>0</td>\n",
       "      <td>2</td>\n",
       "    </tr>\n",
       "    <tr>\n",
       "      <th>128781</th>\n",
       "      <td>2793</td>\n",
       "      <td>328</td>\n",
       "      <td>16</td>\n",
       "      <td>120</td>\n",
       "      <td>26</td>\n",
       "      <td>1818</td>\n",
       "      <td>181</td>\n",
       "      <td>220</td>\n",
       "      <td>178</td>\n",
       "      <td>1959</td>\n",
       "      <td>...</td>\n",
       "      <td>0</td>\n",
       "      <td>0</td>\n",
       "      <td>0</td>\n",
       "      <td>0</td>\n",
       "      <td>0</td>\n",
       "      <td>0</td>\n",
       "      <td>0</td>\n",
       "      <td>0</td>\n",
       "      <td>0</td>\n",
       "      <td>2</td>\n",
       "    </tr>\n",
       "  </tbody>\n",
       "</table>\n",
       "<p>5 rows × 55 columns</p>\n",
       "</div>"
      ],
      "text/plain": [
       "          0    1   2    3   4     5    6    7    8     9   ...  45  46  47  \\\n",
       "332328  2804   94  10  108  17   914  236  225  119  2654  ...   0   0   0   \n",
       "386804  3209  157  12  484  93  2703  233  242  138  2929  ...   0   1   0   \n",
       "271628  2259   24  24  150  54   933  199  181  108   240  ...   0   0   0   \n",
       "216289  2727  331  14   85  15  1082  186  222  175  2308  ...   0   1   0   \n",
       "128781  2793  328  16  120  26  1818  181  220  178  1959  ...   0   0   0   \n",
       "\n",
       "        48  49  50  51  52  53  54  \n",
       "332328   0   0   0   0   0   0   2  \n",
       "386804   0   0   0   0   0   0   2  \n",
       "271628   0   0   0   0   0   0   3  \n",
       "216289   0   0   0   0   0   0   2  \n",
       "128781   0   0   0   0   0   0   2  \n",
       "\n",
       "[5 rows x 55 columns]"
      ]
     },
     "execution_count": 4,
     "metadata": {},
     "output_type": "execute_result"
    }
   ],
   "source": [
    "raw.head()"
   ]
  },
  {
   "cell_type": "markdown",
   "metadata": {},
   "source": [
    "Last column(Covertype) is considered as the class label for this model. \n",
    "For Classification problems , Classification accuracy is considered as a metric. \n",
    "we seperate the features and target variables accordingly."
   ]
  },
  {
   "cell_type": "code",
   "execution_count": 5,
   "metadata": {},
   "outputs": [],
   "source": [
    "x = raw[raw.columns[:54]]"
   ]
  },
  {
   "cell_type": "code",
   "execution_count": 6,
   "metadata": {},
   "outputs": [
    {
     "data": {
      "text/plain": [
       "(581012, 54)"
      ]
     },
     "execution_count": 6,
     "metadata": {},
     "output_type": "execute_result"
    }
   ],
   "source": [
    "x.shape"
   ]
  },
  {
   "cell_type": "code",
   "execution_count": 7,
   "metadata": {},
   "outputs": [],
   "source": [
    "y=raw.iloc[:,-1]"
   ]
  },
  {
   "cell_type": "code",
   "execution_count": 8,
   "metadata": {},
   "outputs": [
    {
     "data": {
      "text/plain": [
       "(581012,)"
      ]
     },
     "execution_count": 8,
     "metadata": {},
     "output_type": "execute_result"
    }
   ],
   "source": [
    "y.shape"
   ]
  },
  {
   "cell_type": "markdown",
   "metadata": {},
   "source": [
    "# Train/Validation Split"
   ]
  },
  {
   "cell_type": "markdown",
   "metadata": {},
   "source": [
    "Split the dataset into two pieces, so that the model can be trained and tested on different data"
   ]
  },
  {
   "cell_type": "code",
   "execution_count": 9,
   "metadata": {},
   "outputs": [],
   "source": [
    "#Split data into train and test \n",
    "x_train, x_test, y_train, y_test = train_test_split(x, y , train_size = 0.8, random_state =  90)"
   ]
  },
  {
   "cell_type": "code",
   "execution_count": 17,
   "metadata": {},
   "outputs": [
    {
     "name": "stdout",
     "output_type": "stream",
     "text": [
      "(464809, 54)\n"
     ]
    },
    {
     "data": {
      "text/plain": [
       "54"
      ]
     },
     "execution_count": 17,
     "metadata": {},
     "output_type": "execute_result"
    }
   ],
   "source": [
    "print(x_train.shape)\n",
    "x_train.shape[1]"
   ]
  },
  {
   "cell_type": "code",
   "execution_count": 18,
   "metadata": {},
   "outputs": [
    {
     "data": {
      "text/plain": [
       "(464809,)"
      ]
     },
     "execution_count": 18,
     "metadata": {},
     "output_type": "execute_result"
    }
   ],
   "source": [
    "y_train.shape"
   ]
  },
  {
   "cell_type": "code",
   "execution_count": 11,
   "metadata": {},
   "outputs": [
    {
     "data": {
      "text/plain": [
       "2    56680\n",
       "1    42265\n",
       "3     7190\n",
       "7     4172\n",
       "6     3534\n",
       "5     1854\n",
       "4      508\n",
       "Name: 54, dtype: int64"
      ]
     },
     "execution_count": 11,
     "metadata": {},
     "output_type": "execute_result"
    }
   ],
   "source": [
    "# examine the class distribution of the testing set (using a Pandas Series method)\n",
    "y_test.value_counts()"
   ]
  },
  {
   "cell_type": "code",
   "execution_count": 12,
   "metadata": {},
   "outputs": [
    {
     "data": {
      "text/plain": [
       "464809"
      ]
     },
     "execution_count": 12,
     "metadata": {},
     "output_type": "execute_result"
    }
   ],
   "source": [
    "len(y_train)"
   ]
  },
  {
   "cell_type": "code",
   "execution_count": 13,
   "metadata": {},
   "outputs": [
    {
     "data": {
      "text/plain": [
       "116203"
      ]
     },
     "execution_count": 13,
     "metadata": {},
     "output_type": "execute_result"
    }
   ],
   "source": [
    "len(y_test)"
   ]
  },
  {
   "cell_type": "code",
   "execution_count": 14,
   "metadata": {},
   "outputs": [
    {
     "data": {
      "text/plain": [
       "2   0.5\n",
       "1   0.4\n",
       "3   0.1\n",
       "7   0.0\n",
       "6   0.0\n",
       "5   0.0\n",
       "4   0.0\n",
       "Name: 54, dtype: float64"
      ]
     },
     "execution_count": 14,
     "metadata": {},
     "output_type": "execute_result"
    }
   ],
   "source": [
    "y_train.value_counts()/y_train.value_counts().sum()"
   ]
  },
  {
   "cell_type": "code",
   "execution_count": 15,
   "metadata": {},
   "outputs": [
    {
     "data": {
      "text/plain": [
       "2   0.5\n",
       "1   0.4\n",
       "3   0.1\n",
       "7   0.0\n",
       "6   0.0\n",
       "5   0.0\n",
       "4   0.0\n",
       "Name: 54, dtype: float64"
      ]
     },
     "execution_count": 15,
     "metadata": {},
     "output_type": "execute_result"
    }
   ],
   "source": [
    "y_test.value_counts()/y_test.value_counts().sum()"
   ]
  },
  {
   "cell_type": "markdown",
   "metadata": {},
   "source": [
    "we can observe that base model predicts class 2 would be right 50% of the time followed by class 1 and class 3 . The model should perform better than 50% to be considered."
   ]
  },
  {
   "cell_type": "markdown",
   "metadata": {},
   "source": [
    " For Classification problems: Classification accuracy is considered as a metric. Other metrics are AOC, ROC curve ."
   ]
  },
  {
   "cell_type": "markdown",
   "metadata": {},
   "source": [
    "# Build Model"
   ]
  },
  {
   "cell_type": "markdown",
   "metadata": {},
   "source": [
    "Model is built with 2 hidden layers of relu and  with softmax for the output layer.\n",
    "Loss function used here is sparse_categorical_crossentropy\n",
    "Optimizer used is Adam\n",
    "Metrics - uses accuracy, to correctly classify the cover type "
   ]
  },
  {
   "cell_type": "code",
   "execution_count": 13,
   "metadata": {},
   "outputs": [
    {
     "name": "stdout",
     "output_type": "stream",
     "text": [
      "_________________________________________________________________\n",
      "Layer (type)                 Output Shape              Param #   \n",
      "=================================================================\n",
      "dense (Dense)                (None, 36)                1980      \n",
      "_________________________________________________________________\n",
      "dense_1 (Dense)              (None, 36)                1332      \n",
      "_________________________________________________________________\n",
      "dense_2 (Dense)              (None, 8)                 296       \n",
      "=================================================================\n",
      "Total params: 3,608\n",
      "Trainable params: 3,608\n",
      "Non-trainable params: 0\n",
      "_________________________________________________________________\n"
     ]
    }
   ],
   "source": [
    "model = keras.Sequential([\n",
    "    keras.layers.Dense(36, activation=tf.nn.relu,\n",
    "                       input_shape=(x_train.shape[1],)),\n",
    "    keras.layers.Dense(36, activation=tf.nn.relu),\n",
    "    keras.layers.Dense(8, activation=tf.nn.softmax)\n",
    "\n",
    "])\n",
    "\n",
    "model.compile(optimizer=tf.train.AdamOptimizer(),\n",
    "              loss='sparse_categorical_crossentropy',\n",
    "              metrics=['accuracy'])\n",
    "\n",
    "\n",
    "\n",
    "model.summary()"
   ]
  },
  {
   "cell_type": "markdown",
   "metadata": {},
   "source": [
    "# Fit Model "
   ]
  },
  {
   "cell_type": "code",
   "execution_count": 14,
   "metadata": {},
   "outputs": [
    {
     "name": "stdout",
     "output_type": "stream",
     "text": [
      "\n",
      ".........."
     ]
    }
   ],
   "source": [
    "class PrintDot(keras.callbacks.Callback):\n",
    "  def on_epoch_end(self, epoch, logs):\n",
    "    if epoch % 100 == 0: print('')\n",
    "    print('.', end='')\n",
    "\n",
    "EPOCHS = 10\n",
    "tf.set_random_seed(15)\n",
    "\n",
    "# Store training stats\n",
    "history = model.fit(x_train, y_train, epochs=EPOCHS,\n",
    "                    validation_split=0.2, verbose=0,\n",
    "                    callbacks=[PrintDot()],\n",
    "                   validation_data = (x_test, y_test))"
   ]
  },
  {
   "cell_type": "markdown",
   "metadata": {},
   "source": [
    "### Evaluate model "
   ]
  },
  {
   "cell_type": "code",
   "execution_count": 15,
   "metadata": {},
   "outputs": [
    {
     "name": "stdout",
     "output_type": "stream",
     "text": [
      "116203/116203 [==============================] - 3s 23us/sample - loss: 10.2659 - acc: 0.3631\n"
     ]
    },
    {
     "data": {
      "text/plain": [
       "[10.26593529283408, 0.3630801]"
      ]
     },
     "execution_count": 15,
     "metadata": {},
     "output_type": "execute_result"
    }
   ],
   "source": [
    "eval_model=model.evaluate(x_test, y_test)\n",
    "eval_model"
   ]
  },
  {
   "cell_type": "markdown",
   "metadata": {},
   "source": [
    "Validation accuracy of the above model is just 36% which is less than \n",
    "Now lets normalize the data and then build a deep neural network model. "
   ]
  },
  {
   "cell_type": "markdown",
   "metadata": {},
   "source": [
    "### Plot Data"
   ]
  },
  {
   "cell_type": "code",
   "execution_count": 20,
   "metadata": {},
   "outputs": [
    {
     "data": {
      "image/png": "[encoded data removed]",
      "text/plain": [
       "<Figure size 432x288 with 1 Axes>"
      ]
     },
     "metadata": {
      "needs_background": "light"
     },
     "output_type": "display_data"
    }
   ],
   "source": [
    "import matplotlib.pyplot as plt\n",
    "\n",
    "\n",
    "def plot_history(history):\n",
    "  plt.figure()\n",
    "  plt.xlabel('Epoch')\n",
    "  plt.ylabel('Accuracy')\n",
    "  plt.plot(history.epoch, np.array(history.history['acc']),\n",
    "           label='Train Loss')\n",
    "  plt.plot(history.epoch, np.array(history.history['val_acc']),\n",
    "           label = 'Val loss')\n",
    "  plt.legend()\n",
    "  #plt.ylim([0.005, 0.05])\n",
    "\n",
    "plot_history(history)"
   ]
  },
  {
   "cell_type": "markdown",
   "metadata": {},
   "source": [
    "The reason for straight accuracy line and low accuracy is that the model is not able to learn in 26 epochs. \n",
    "Because different features do not have similar ranges of values and hence gradients may end up taking a long time. \n",
    "\n",
    "To overcome the model learning problem, we normalize the data. We make sure that the different features take on similar ranges of values so that gradient descents can converge more quickly."
   ]
  },
  {
   "cell_type": "code",
   "execution_count": 21,
   "metadata": {},
   "outputs": [
    {
     "name": "stdout",
     "output_type": "stream",
     "text": [
      "         0    1    2    3    4    5    6    7    8    9   ...  44  45  46  47  \\\n",
      "227277  1.4 -1.2 -1.2 -1.3 -0.8  0.4  0.1  0.3  0.2  0.1  ...   0   0   0   0   \n",
      "253931 -0.8  1.3  1.6  1.2 -1.1 -0.9 -2.8 -0.4  1.9 -0.5  ...   1   0   0   0   \n",
      "158007  0.9  1.4 -0.0  1.4  0.3  2.4 -1.1  0.3  1.2 -0.6  ...   0   0   0   0   \n",
      "314658 -0.4  0.5  1.3 -0.7  0.0 -0.7 -0.6  1.6  1.1  0.5  ...   0   0   0   0   \n",
      "524460  1.0 -0.1 -0.5  1.8 -0.3 -0.8  0.8  0.8 -0.1  0.3  ...   0   0   1   0   \n",
      "\n",
      "        48  49  50  51  52  53  \n",
      "227277   0   0   0   1   0   0  \n",
      "253931   0   0   0   0   0   0  \n",
      "158007   0   0   0   0   0   0  \n",
      "314658   0   0   0   0   0   0  \n",
      "524460   0   0   0   0   0   0  \n",
      "\n",
      "[5 rows x 54 columns]\n",
      "         0   1    2    3    4    5    6    7   8    9   ...  44  45  46  47  \\\n",
      "451868  1.0 0.9 -0.9  0.3 -0.1  0.5 -0.3  1.0 1.0 -0.3  ...   0   0   0   0   \n",
      "361209  0.6 0.8 -1.1 -0.7 -0.6 -0.5 -0.1  1.1 0.8  0.3  ...   0   1   0   0   \n",
      "15137  -0.8 1.8  0.4 -1.1 -0.6  0.4 -0.8 -0.8 0.2  3.2  ...   0   0   0   0   \n",
      "216706  1.0 1.7 -1.1 -0.8 -0.7  0.6 -0.1  0.3 0.4  0.1  ...   0   0   0   0   \n",
      "166126  0.5 1.1 -0.1 -0.3 -0.1  2.1 -1.1  1.0 1.4  0.3  ...   0   0   0   0   \n",
      "\n",
      "        48  49  50  51  52  53  \n",
      "451868   0   0   0   0   0   0  \n",
      "361209   0   0   0   0   0   0  \n",
      "15137    0   0   0   0   0   0  \n",
      "216706   0   0   0   0   0   0  \n",
      "166126   0   0   0   0   0   0  \n",
      "\n",
      "[5 rows x 54 columns]\n"
     ]
    }
   ],
   "source": [
    "from sklearn import preprocessing\n",
    "#Select numerical columns which needs to be normalized\n",
    "train_norm = x_train[x_train.columns[0:10]]\n",
    "test_norm = x_test[x_test.columns[0:10]]\n",
    "# Normalize Training Data \n",
    "std_scale = preprocessing.StandardScaler().fit(train_norm)\n",
    "x_train_norm = std_scale.transform(train_norm)\n",
    "#Converting numpy array to dataframe\n",
    "training_norm_col = pd.DataFrame(x_train_norm, index=train_norm.index, columns=train_norm.columns) \n",
    "x_train.update(training_norm_col)\n",
    "print (x_train.head())\n",
    "# Normalize Testing Data by using mean and SD of training set\n",
    "x_test_norm = std_scale.transform(test_norm)\n",
    "testing_norm_col = pd.DataFrame(x_test_norm, index=test_norm.index, columns=test_norm.columns) \n",
    "x_test.update(testing_norm_col)\n",
    "print (x_test.head())"
   ]
  },
  {
   "cell_type": "code",
   "execution_count": 22,
   "metadata": {},
   "outputs": [
    {
     "name": "stdout",
     "output_type": "stream",
     "text": [
      "Train on 464809 samples, validate on 116203 samples\n",
      "Epoch 1/26\n",
      "464809/464809 [==============================] - 12s 25us/sample - loss: 0.5467 - acc: 0.7640 - val_loss: 0.4806 - val_acc: 0.7911\n",
      "Epoch 2/26\n",
      "464809/464809 [==============================] - 10s 21us/sample - loss: 0.4466 - acc: 0.8092 - val_loss: 0.4236 - val_acc: 0.8213\n",
      "Epoch 3/26\n",
      "464809/464809 [==============================] - 10s 21us/sample - loss: 0.4085 - acc: 0.8278 - val_loss: 0.3964 - val_acc: 0.8339\n",
      "Epoch 4/26\n",
      "464809/464809 [==============================] - 10s 21us/sample - loss: 0.3831 - acc: 0.8399 - val_loss: 0.3758 - val_acc: 0.8437\n",
      "Epoch 5/26\n",
      "464809/464809 [==============================] - 10s 21us/sample - loss: 0.3657 - acc: 0.8472 - val_loss: 0.3701 - val_acc: 0.8437\n",
      "Epoch 6/26\n",
      "464809/464809 [==============================] - 10s 22us/sample - loss: 0.3527 - acc: 0.8535 - val_loss: 0.3527 - val_acc: 0.8544\n",
      "Epoch 7/26\n",
      "464809/464809 [==============================] - 10s 22us/sample - loss: 0.3429 - acc: 0.8579 - val_loss: 0.3386 - val_acc: 0.8613\n",
      "Epoch 8/26\n",
      "464809/464809 [==============================] - 10s 23us/sample - loss: 0.3337 - acc: 0.8616 - val_loss: 0.3380 - val_acc: 0.8607\n",
      "Epoch 9/26\n",
      "464809/464809 [==============================] - 10s 21us/sample - loss: 0.3271 - acc: 0.8644 - val_loss: 0.3431 - val_acc: 0.8560\n",
      "Epoch 10/26\n",
      "464809/464809 [==============================] - 10s 21us/sample - loss: 0.3212 - acc: 0.8672 - val_loss: 0.3263 - val_acc: 0.8660\n",
      "Epoch 11/26\n",
      "464809/464809 [==============================] - 10s 21us/sample - loss: 0.3160 - acc: 0.8694 - val_loss: 0.3211 - val_acc: 0.8681\n",
      "Epoch 12/26\n",
      "464809/464809 [==============================] - 10s 22us/sample - loss: 0.3118 - acc: 0.8707 - val_loss: 0.3129 - val_acc: 0.8695\n",
      "Epoch 13/26\n",
      "464809/464809 [==============================] - 10s 22us/sample - loss: 0.3075 - acc: 0.8734 - val_loss: 0.3073 - val_acc: 0.8738\n",
      "Epoch 14/26\n",
      "464809/464809 [==============================] - 11s 23us/sample - loss: 0.3037 - acc: 0.8749 - val_loss: 0.3169 - val_acc: 0.8693\n",
      "Epoch 15/26\n",
      "464809/464809 [==============================] - 10s 22us/sample - loss: 0.3009 - acc: 0.8756 - val_loss: 0.3036 - val_acc: 0.8753\n",
      "Epoch 16/26\n",
      "464809/464809 [==============================] - 10s 22us/sample - loss: 0.2974 - acc: 0.8777 - val_loss: 0.3070 - val_acc: 0.8733\n",
      "Epoch 17/26\n",
      "464809/464809 [==============================] - 10s 21us/sample - loss: 0.2946 - acc: 0.8788 - val_loss: 0.3078 - val_acc: 0.8725\n",
      "Epoch 18/26\n",
      "464809/464809 [==============================] - 10s 21us/sample - loss: 0.2916 - acc: 0.8804 - val_loss: 0.2946 - val_acc: 0.8785\n",
      "Epoch 19/26\n",
      "464809/464809 [==============================] - 10s 22us/sample - loss: 0.2891 - acc: 0.8818 - val_loss: 0.2925 - val_acc: 0.8808\n",
      "Epoch 20/26\n",
      "464809/464809 [==============================] - 10s 23us/sample - loss: 0.2863 - acc: 0.8829 - val_loss: 0.2946 - val_acc: 0.8803\n",
      "Epoch 21/26\n",
      "464809/464809 [==============================] - 10s 23us/sample - loss: 0.2840 - acc: 0.8835 - val_loss: 0.2970 - val_acc: 0.8783\n",
      "Epoch 22/26\n",
      "464809/464809 [==============================] - 10s 22us/sample - loss: 0.2813 - acc: 0.8852 - val_loss: 0.2896 - val_acc: 0.8814\n",
      "Epoch 23/26\n",
      "464809/464809 [==============================] - 10s 22us/sample - loss: 0.2796 - acc: 0.8856 - val_loss: 0.2812 - val_acc: 0.8846\n",
      "Epoch 24/26\n",
      "464809/464809 [==============================] - 10s 22us/sample - loss: 0.2776 - acc: 0.8860 - val_loss: 0.2815 - val_acc: 0.8863\n",
      "Epoch 25/26\n",
      "464809/464809 [==============================] - 10s 22us/sample - loss: 0.2755 - acc: 0.8870 - val_loss: 0.2818 - val_acc: 0.8841\n",
      "Epoch 26/26\n",
      "464809/464809 [==============================] - 10s 22us/sample - loss: 0.2738 - acc: 0.8880 - val_loss: 0.2740 - val_acc: 0.8889\n"
     ]
    }
   ],
   "source": [
    "#Build neural network model with normalized data\n",
    "# Build the model (Using Keras API)\n",
    "# Dense = all neurons are connected\n",
    "# 64 - number of neurons used.\n",
    "#softmax function and \n",
    "\n",
    "## Compile the model \n",
    "#loss function sparse_categorical_crossentropy as the target class labels are categorical and Optimizer is Adam\n",
    "#Accuracy is the metric/measure considered \n",
    "\n",
    "tf.set_random_seed(40)\n",
    "model2 = keras.Sequential([\n",
    " keras.layers.Dense(64, activation=tf.nn.relu,                  \n",
    " input_shape=(x_train.shape[1],)),\n",
    " keras.layers.Dense(64, activation=tf.nn.relu),\n",
    " keras.layers.Dense(8, activation=  'softmax')\n",
    " ])\n",
    "\n",
    "model2.compile(optimizer=tf.train.AdamOptimizer(),\n",
    "              loss='sparse_categorical_crossentropy',\n",
    "              metrics=['accuracy'])\n",
    "history2 = model2.fit(\n",
    " x_train, y_train,\n",
    " epochs= 26, batch_size = 60,\n",
    " validation_data = (x_test, y_test))"
   ]
  },
  {
   "cell_type": "markdown",
   "metadata": {},
   "source": [
    "As the model trains, the loss and accuracy metrics are displayed. This model reaches an accuracy of about 0.88 (or 88%).\n",
    "Validation Accuracy of this model 88.8% is better model."
   ]
  },
  {
   "cell_type": "code",
   "execution_count": 23,
   "metadata": {},
   "outputs": [
    {
     "data": {
      "image/png": "[encoded data removed]",
      "text/plain": [
       "<Figure size 432x288 with 1 Axes>"
      ]
     },
     "metadata": {
      "needs_background": "light"
     },
     "output_type": "display_data"
    }
   ],
   "source": [
    "import matplotlib.pyplot as plt\n",
    "\n",
    "def plot_history(history):\n",
    "  plt.figure()\n",
    "  plt.xlabel('Epoch')\n",
    "  plt.ylabel('Accuracy')\n",
    "  plt.plot(history.epoch, np.array(history2.history['acc']),\n",
    "           label='Train Accuracy')\n",
    "  plt.plot(history.epoch, np.array(history2.history['val_acc']),\n",
    "           label = 'Val Accuracy')\n",
    "  plt.legend()\n",
    "  #plt.ylim([0.05, 1])\n",
    "\n",
    "\n",
    "plot_history(history2)"
   ]
  },
  {
   "cell_type": "markdown",
   "metadata": {},
   "source": [
    " From the above graph, we can see that after normalizing the data the model accuracy is increasing with every epoch and at epoch 26, accuracy reached 88% which is far better than the baseline... \n",
    " "
   ]
  }
 ],
 "metadata": {
  "kernelspec": {
   "display_name": "Python 3",
   "language": "python",
   "name": "python3"
  },
  "language_info": {
   "codemirror_mode": {
    "name": "ipython",
    "version": 3
   },
   "file_extension": ".py",
   "mimetype": "text/x-python",
   "name": "python",
   "nbconvert_exporter": "python",
   "pygments_lexer": "ipython3",
   "version": "3.7.3"
  }
 },
 "nbformat": 4,
 "nbformat_minor": 2
}
