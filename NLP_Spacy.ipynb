{
  "nbformat": 4,
  "nbformat_minor": 0,
  "metadata": {
    "colab": {
      "name": "NLP Spacy.ipynb",
      "provenance": [],
      "authorship_tag": "ABX9TyOOP0YfoEZdwCjKe8LybKrj",
      "include_colab_link": true
    },
    "kernelspec": {
      "name": "python3",
      "display_name": "Python 3"
    }
  },
  "cells": [
    {
      "cell_type": "markdown",
      "metadata": {
        "id": "view-in-github",
        "colab_type": "text"
      },
      "source": [
        "<a href=\"https://colab.research.google.com/github/lakshmiMadhuriYalamanchi/DeepLearning/blob/master/NLP_Spacy.ipynb\" target=\"_parent\"><img src=\"https://colab.research.google.com/assets/colab-badge.svg\" alt=\"Open In Colab\"/></a>"
      ]
    },
    {
      "cell_type": "code",
      "metadata": {
        "id": "mzYAD7x7kH85",
        "colab_type": "code",
        "colab": {}
      },
      "source": [
        "import spacy\n",
        "nlp = spacy.load('en')"
      ],
      "execution_count": 0,
      "outputs": []
    },
    {
      "cell_type": "code",
      "metadata": {
        "id": "vzY1qmFkkJUj",
        "colab_type": "code",
        "colab": {}
      },
      "source": [
        "doc = nlp(\"Tea is healthy and calming, don't you think?\")"
      ],
      "execution_count": 0,
      "outputs": []
    },
    {
      "cell_type": "markdown",
      "metadata": {
        "id": "StMXHbi8li9G",
        "colab_type": "text"
      },
      "source": [
        "# **Tokenizing**"
      ]
    },
    {
      "cell_type": "code",
      "metadata": {
        "id": "qTeNn2Y1kSzi",
        "colab_type": "code",
        "colab": {
          "base_uri": "https://localhost:8080/",
          "height": 200
        },
        "outputId": "45ff102a-8a60-4ec1-af03-2edf77e0e466"
      },
      "source": [
        "for token in doc:\n",
        "  print(token)"
      ],
      "execution_count": 3,
      "outputs": [
        {
          "output_type": "stream",
          "text": [
            "Tea\n",
            "is\n",
            "healthy\n",
            "and\n",
            "calming\n",
            ",\n",
            "do\n",
            "n't\n",
            "you\n",
            "think\n",
            "?\n"
          ],
          "name": "stdout"
        }
      ]
    },
    {
      "cell_type": "markdown",
      "metadata": {
        "id": "N3KQQ5kdkwY1",
        "colab_type": "text"
      },
      "source": [
        "# **Text Preprocessing**"
      ]
    },
    {
      "cell_type": "markdown",
      "metadata": {
        "id": "wSbz5K7wk8YF",
        "colab_type": "text"
      },
      "source": [
        "**The first is \"lemmatizing.\" The \"lemma\" of a word is its base form. For example, \"walk\" is the lemma of the word \"walking\". So, when you lemmatize the word walking, you would convert it to walk.**"
      ]
    },
    {
      "cell_type": "markdown",
      "metadata": {
        "id": "tIdXh3QXlDOi",
        "colab_type": "text"
      },
      "source": [
        "**Stopwords are words that occur frequently in the language and don't contain much information. English stopwords include \"the\", \"is\", \"and\", \"but\", \"not\".**"
      ]
    },
    {
      "cell_type": "code",
      "metadata": {
        "id": "qetqcW_nkocF",
        "colab_type": "code",
        "colab": {
          "base_uri": "https://localhost:8080/",
          "height": 233
        },
        "outputId": "3c7258c8-67fa-4ba0-8473-8c84b3ab49a7"
      },
      "source": [
        "print(f\"Token \\t\\tLemma \\t\\tStopword\".format('Token', 'Lemma', 'Stopword'))\n",
        "print(\"-\"*40)\n",
        "for token in doc:\n",
        "    print(f\"{str(token)}\\t\\t{token.lemma_}\\t\\t{token.is_stop}\")"
      ],
      "execution_count": 4,
      "outputs": [
        {
          "output_type": "stream",
          "text": [
            "Token \t\tLemma \t\tStopword\n",
            "----------------------------------------\n",
            "Tea\t\ttea\t\tFalse\n",
            "is\t\tbe\t\tTrue\n",
            "healthy\t\thealthy\t\tFalse\n",
            "and\t\tand\t\tTrue\n",
            "calming\t\tcalm\t\tFalse\n",
            ",\t\t,\t\tFalse\n",
            "do\t\tdo\t\tTrue\n",
            "n't\t\tnot\t\tTrue\n",
            "you\t\t-PRON-\t\tTrue\n",
            "think\t\tthink\t\tFalse\n",
            "?\t\t?\t\tFalse\n"
          ],
          "name": "stdout"
        }
      ]
    },
    {
      "cell_type": "markdown",
      "metadata": {
        "id": "pwzjKjYclnR3",
        "colab_type": "text"
      },
      "source": [
        "# **Pattern Matching**\n",
        " matching tokens or phrases within chunks of text or whole documents."
      ]
    },
    {
      "cell_type": "code",
      "metadata": {
        "id": "l02uM63vmJxG",
        "colab_type": "code",
        "colab": {}
      },
      "source": [
        "from spacy.matcher import PhraseMatcher\n",
        "matcher = PhraseMatcher(nlp.vocab, attr='LOWER')"
      ],
      "execution_count": 0,
      "outputs": []
    },
    {
      "cell_type": "code",
      "metadata": {
        "id": "d0V2akb2oVEf",
        "colab_type": "code",
        "colab": {}
      },
      "source": [
        "terms = ['Galaxy Note', 'iPhone 11', 'iPhone XS', 'Google Pixel']\n",
        "patterns = [nlp(text) for text in terms]\n",
        "matcher.add(\"TerminologyList\", None, *patterns)"
      ],
      "execution_count": 0,
      "outputs": []
    },
    {
      "cell_type": "code",
      "metadata": {
        "id": "Bo5CSTuuoVA6",
        "colab_type": "code",
        "colab": {
          "base_uri": "https://localhost:8080/",
          "height": 33
        },
        "outputId": "50d7b024-71e3-468f-d72d-d3b4f3e0c2d6"
      },
      "source": [
        "# Borrowed from https://daringfireball.net/linked/2019/09/21/patel-11-pro\n",
        "text_doc = nlp(\"Glowing review overall, and some really interesting side-by-side \"\n",
        "               \"photography tests pitting the iPhone 11 Pro against the \"\n",
        "               \"Galaxy Note 10 Plus and last year’s iPhone XS and Google Pixel 3.\") \n",
        "matches = matcher(text_doc)\n",
        "print(matches)"
      ],
      "execution_count": 14,
      "outputs": [
        {
          "output_type": "stream",
          "text": [
            "[(3766102292120407359, 17, 19), (3766102292120407359, 22, 24), (3766102292120407359, 30, 32), (3766102292120407359, 33, 35)]\n"
          ],
          "name": "stdout"
        }
      ]
    },
    {
      "cell_type": "code",
      "metadata": {
        "id": "gKuo4gPgqXMp",
        "colab_type": "code",
        "colab": {
          "base_uri": "https://localhost:8080/",
          "height": 33
        },
        "outputId": "fa690f04-b24f-4b5f-d401-bfbd1fad9f9b"
      },
      "source": [
        "matches[1]"
      ],
      "execution_count": 15,
      "outputs": [
        {
          "output_type": "execute_result",
          "data": {
            "text/plain": [
              "(3766102292120407359, 22, 24)"
            ]
          },
          "metadata": {
            "tags": []
          },
          "execution_count": 15
        }
      ]
    },
    {
      "cell_type": "code",
      "metadata": {
        "id": "7epnj75lpsDP",
        "colab_type": "code",
        "colab": {
          "base_uri": "https://localhost:8080/",
          "height": 33
        },
        "outputId": "54128043-e4f5-47ff-a34d-bbc75decf32a"
      },
      "source": [
        "match_id, start, end = matches[1]\n",
        "print(nlp.vocab.strings[match_id], text_doc[start:end])"
      ],
      "execution_count": 16,
      "outputs": [
        {
          "output_type": "stream",
          "text": [
            "TerminologyList Galaxy Note\n"
          ],
          "name": "stdout"
        }
      ]
    }
  ]
}