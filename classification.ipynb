{
 "cells": [
  {
   "cell_type": "code",
   "execution_count": 7,
   "metadata": {
    "colab": {
     "base_uri": "https://localhost:8080/",
     "height": 34
    },
    "colab_type": "code",
    "id": "wGUFQFd_keQR",
    "outputId": "ead58d3f-7c11-4a8e-8c10-1e67dc66807a"
   },
   "outputs": [
    {
     "name": "stdout",
     "output_type": "stream",
     "text": [
      "1.13.1\n"
     ]
    }
   ],
   "source": [
    "from __future__ import absolute_import, division, print_function, unicode_literals\n",
    "\n",
    "# TensorFlow and tf.keras\n",
    "import tensorflow as tf\n",
    "from tensorflow import keras\n",
    "\n",
    "#import pandas as pd\n",
    "# Helper libraries\n",
    "import numpy as np\n",
    "import matplotlib.pyplot as plt\n",
    "print(tf.__version__)"
   ]
  },
  {
   "cell_type": "code",
   "execution_count": 5,
   "metadata": {},
   "outputs": [],
   "source": [
    "from numpy.random import seed\n",
    "seed(2)\n",
    "from tensorflow import set_random_seed\n",
    "set_random_seed(2)"
   ]
  },
  {
   "cell_type": "code",
   "execution_count": null,
   "metadata": {
    "colab": {},
    "colab_type": "code",
    "id": "FGxhg3z_km_M"
   },
   "outputs": [],
   "source": [
    "raw = pd.read_csv(\"E:/MS/Deep Learning/Assignments/Assignment1/online_shoppers_intention.csv\")"
   ]
  },
  {
   "cell_type": "markdown",
   "metadata": {},
   "source": [
    "printing the first 5 rows of the data "
   ]
  },
  {
   "cell_type": "code",
   "execution_count": 4,
   "metadata": {
    "colab": {
     "base_uri": "https://localhost:8080/",
     "height": 224
    },
    "colab_type": "code",
    "id": "1fk7-peulBS2",
    "outputId": "d2f6320b-508a-4548-b49e-ceedfbfa4462"
   },
   "outputs": [
    {
     "data": {
      "text/html": [
       "<div>\n",
       "<style scoped>\n",
       "    .dataframe tbody tr th:only-of-type {\n",
       "        vertical-align: middle;\n",
       "    }\n",
       "\n",
       "    .dataframe tbody tr th {\n",
       "        vertical-align: top;\n",
       "    }\n",
       "\n",
       "    .dataframe thead th {\n",
       "        text-align: right;\n",
       "    }\n",
       "</style>\n",
       "<table border=\"1\" class=\"dataframe\">\n",
       "  <thead>\n",
       "    <tr style=\"text-align: right;\">\n",
       "      <th></th>\n",
       "      <th>Administrative</th>\n",
       "      <th>Administrative_Duration</th>\n",
       "      <th>Informational</th>\n",
       "      <th>Informational_Duration</th>\n",
       "      <th>ProductRelated</th>\n",
       "      <th>ProductRelated_Duration</th>\n",
       "      <th>BounceRates</th>\n",
       "      <th>ExitRates</th>\n",
       "      <th>PageValues</th>\n",
       "      <th>SpecialDay</th>\n",
       "      <th>Month</th>\n",
       "      <th>OperatingSystems</th>\n",
       "      <th>Browser</th>\n",
       "      <th>Region</th>\n",
       "      <th>TrafficType</th>\n",
       "      <th>VisitorType</th>\n",
       "      <th>Weekend</th>\n",
       "      <th>Revenue</th>\n",
       "    </tr>\n",
       "  </thead>\n",
       "  <tbody>\n",
       "    <tr>\n",
       "      <th>0</th>\n",
       "      <td>0</td>\n",
       "      <td>0.0</td>\n",
       "      <td>0</td>\n",
       "      <td>0.0</td>\n",
       "      <td>1</td>\n",
       "      <td>0.000000</td>\n",
       "      <td>0.20</td>\n",
       "      <td>0.20</td>\n",
       "      <td>0.0</td>\n",
       "      <td>0.0</td>\n",
       "      <td>Feb</td>\n",
       "      <td>1</td>\n",
       "      <td>1</td>\n",
       "      <td>1</td>\n",
       "      <td>1</td>\n",
       "      <td>Returning_Visitor</td>\n",
       "      <td>False</td>\n",
       "      <td>False</td>\n",
       "    </tr>\n",
       "    <tr>\n",
       "      <th>1</th>\n",
       "      <td>0</td>\n",
       "      <td>0.0</td>\n",
       "      <td>0</td>\n",
       "      <td>0.0</td>\n",
       "      <td>2</td>\n",
       "      <td>64.000000</td>\n",
       "      <td>0.00</td>\n",
       "      <td>0.10</td>\n",
       "      <td>0.0</td>\n",
       "      <td>0.0</td>\n",
       "      <td>Feb</td>\n",
       "      <td>2</td>\n",
       "      <td>2</td>\n",
       "      <td>1</td>\n",
       "      <td>2</td>\n",
       "      <td>Returning_Visitor</td>\n",
       "      <td>False</td>\n",
       "      <td>False</td>\n",
       "    </tr>\n",
       "    <tr>\n",
       "      <th>2</th>\n",
       "      <td>0</td>\n",
       "      <td>0.0</td>\n",
       "      <td>0</td>\n",
       "      <td>0.0</td>\n",
       "      <td>1</td>\n",
       "      <td>0.000000</td>\n",
       "      <td>0.20</td>\n",
       "      <td>0.20</td>\n",
       "      <td>0.0</td>\n",
       "      <td>0.0</td>\n",
       "      <td>Feb</td>\n",
       "      <td>4</td>\n",
       "      <td>1</td>\n",
       "      <td>9</td>\n",
       "      <td>3</td>\n",
       "      <td>Returning_Visitor</td>\n",
       "      <td>False</td>\n",
       "      <td>False</td>\n",
       "    </tr>\n",
       "    <tr>\n",
       "      <th>3</th>\n",
       "      <td>0</td>\n",
       "      <td>0.0</td>\n",
       "      <td>0</td>\n",
       "      <td>0.0</td>\n",
       "      <td>2</td>\n",
       "      <td>2.666667</td>\n",
       "      <td>0.05</td>\n",
       "      <td>0.14</td>\n",
       "      <td>0.0</td>\n",
       "      <td>0.0</td>\n",
       "      <td>Feb</td>\n",
       "      <td>3</td>\n",
       "      <td>2</td>\n",
       "      <td>2</td>\n",
       "      <td>4</td>\n",
       "      <td>Returning_Visitor</td>\n",
       "      <td>False</td>\n",
       "      <td>False</td>\n",
       "    </tr>\n",
       "    <tr>\n",
       "      <th>4</th>\n",
       "      <td>0</td>\n",
       "      <td>0.0</td>\n",
       "      <td>0</td>\n",
       "      <td>0.0</td>\n",
       "      <td>10</td>\n",
       "      <td>627.500000</td>\n",
       "      <td>0.02</td>\n",
       "      <td>0.05</td>\n",
       "      <td>0.0</td>\n",
       "      <td>0.0</td>\n",
       "      <td>Feb</td>\n",
       "      <td>3</td>\n",
       "      <td>3</td>\n",
       "      <td>1</td>\n",
       "      <td>4</td>\n",
       "      <td>Returning_Visitor</td>\n",
       "      <td>True</td>\n",
       "      <td>False</td>\n",
       "    </tr>\n",
       "  </tbody>\n",
       "</table>\n",
       "</div>"
      ],
      "text/plain": [
       "   Administrative  Administrative_Duration  Informational  \\\n",
       "0               0                      0.0              0   \n",
       "1               0                      0.0              0   \n",
       "2               0                      0.0              0   \n",
       "3               0                      0.0              0   \n",
       "4               0                      0.0              0   \n",
       "\n",
       "   Informational_Duration  ProductRelated  ProductRelated_Duration  \\\n",
       "0                     0.0               1                 0.000000   \n",
       "1                     0.0               2                64.000000   \n",
       "2                     0.0               1                 0.000000   \n",
       "3                     0.0               2                 2.666667   \n",
       "4                     0.0              10               627.500000   \n",
       "\n",
       "   BounceRates  ExitRates  PageValues  SpecialDay Month  OperatingSystems  \\\n",
       "0         0.20       0.20         0.0         0.0   Feb                 1   \n",
       "1         0.00       0.10         0.0         0.0   Feb                 2   \n",
       "2         0.20       0.20         0.0         0.0   Feb                 4   \n",
       "3         0.05       0.14         0.0         0.0   Feb                 3   \n",
       "4         0.02       0.05         0.0         0.0   Feb                 3   \n",
       "\n",
       "   Browser  Region  TrafficType        VisitorType  Weekend  Revenue  \n",
       "0        1       1            1  Returning_Visitor    False    False  \n",
       "1        2       1            2  Returning_Visitor    False    False  \n",
       "2        1       9            3  Returning_Visitor    False    False  \n",
       "3        2       2            4  Returning_Visitor    False    False  \n",
       "4        3       1            4  Returning_Visitor     True    False  "
      ]
     },
     "execution_count": 4,
     "metadata": {},
     "output_type": "execute_result"
    }
   ],
   "source": [
    "raw.head(5)\n"
   ]
  },
  {
   "cell_type": "code",
   "execution_count": null,
   "metadata": {},
   "outputs": [],
   "source": [
    "raw.dtypes\n",
    "raw.info()"
   ]
  },
  {
   "cell_type": "code",
   "execution_count": 9,
   "metadata": {
    "colab": {
     "base_uri": "https://localhost:8080/",
     "height": 51
    },
    "colab_type": "code",
    "id": "wFXkUF4ZPDpX",
    "outputId": "42c18595-0288-4c2d-c592-0e6cc824cf3a"
   },
   "outputs": [],
   "source": [
    "raw['Revenue'] = (raw['Revenue']).astype('int')"
   ]
  },
  {
   "cell_type": "code",
   "execution_count": 10,
   "metadata": {},
   "outputs": [],
   "source": [
    "raw['Weekend'] = (raw['Weekend']).astype('int')"
   ]
  },
  {
   "cell_type": "markdown",
   "metadata": {},
   "source": [
    "Revenue column is considered as the class variable for this model.\n",
    "For Classification problems , Classification accuracy is considered as a metric.\n",
    "seperate the features and target variables accordingly."
   ]
  },
  {
   "cell_type": "code",
   "execution_count": 14,
   "metadata": {
    "colab": {},
    "colab_type": "code",
    "id": "FIqb215uPPgP"
   },
   "outputs": [],
   "source": [
    "# creating input features and target variables\n",
    "X= raw.iloc[:,0:17]\n",
    "y= raw.iloc[:,17]"
   ]
  },
  {
   "cell_type": "code",
   "execution_count": 15,
   "metadata": {
    "colab": {
     "base_uri": "https://localhost:8080/",
     "height": 119
    },
    "colab_type": "code",
    "id": "Mlsb4JjuS425",
    "outputId": "2c50d2a7-6fd5-4a57-df23-7ebefc0202e6"
   },
   "outputs": [
    {
     "data": {
      "text/plain": [
       "Index(['Administrative', 'Administrative_Duration', 'Informational',\n",
       "       'Informational_Duration', 'ProductRelated', 'ProductRelated_Duration',\n",
       "       'BounceRates', 'ExitRates', 'PageValues', 'SpecialDay', 'Month',\n",
       "       'OperatingSystems', 'Browser', 'Region', 'TrafficType', 'VisitorType',\n",
       "       'Weekend'],\n",
       "      dtype='object')"
      ]
     },
     "execution_count": 15,
     "metadata": {},
     "output_type": "execute_result"
    }
   ],
   "source": [
    "X.columns"
   ]
  },
  {
   "cell_type": "markdown",
   "metadata": {},
   "source": [
    "generate dummies for categorical variables month and Visitor type using pd.get_dummies"
   ]
  },
  {
   "cell_type": "code",
   "execution_count": 17,
   "metadata": {
    "colab": {},
    "colab_type": "code",
    "id": "4eUeSc0k0JIW"
   },
   "outputs": [],
   "source": [
    "def generate_dummies(df, dummy_column):\n",
    "    dummies = pd.get_dummies(df[dummy_column], prefix=dummy_column)\n",
    "    df = pd.concat([df, dummies], axis=1)\n",
    "    return df\n",
    "\n",
    "X = pd.DataFrame.copy(X)\n",
    "dummy_columns = [\"Month\",\"VisitorType\",\"OperatingSystems\",\"Browser\",\"Region\",\"TrafficType\"\n",
    "                ]\n",
    "for dummy_column in dummy_columns:\n",
    "    X = generate_dummies(X, dummy_column)"
   ]
  },
  {
   "cell_type": "code",
   "execution_count": 18,
   "metadata": {
    "colab": {
     "base_uri": "https://localhost:8080/",
     "height": 170
    },
    "colab_type": "code",
    "id": "b51pxrim1a9O",
    "outputId": "d7f49d8d-1f63-4f22-ba79-6c2aef72d047"
   },
   "outputs": [
    {
     "data": {
      "text/plain": [
       "Index(['Administrative', 'Administrative_Duration', 'Informational',\n",
       "       'Informational_Duration', 'ProductRelated', 'ProductRelated_Duration',\n",
       "       'BounceRates', 'ExitRates', 'PageValues', 'SpecialDay', 'Month',\n",
       "       'OperatingSystems', 'Browser', 'Region', 'TrafficType', 'VisitorType',\n",
       "       'Weekend', 'Month_Aug', 'Month_Dec', 'Month_Feb', 'Month_Jul',\n",
       "       'Month_June', 'Month_Mar', 'Month_May', 'Month_Nov', 'Month_Oct',\n",
       "       'Month_Sep', 'VisitorType_New_Visitor', 'VisitorType_Other',\n",
       "       'VisitorType_Returning_Visitor'],\n",
       "      dtype='object')"
      ]
     },
     "execution_count": 18,
     "metadata": {},
     "output_type": "execute_result"
    }
   ],
   "source": [
    "X.columns"
   ]
  },
  {
   "cell_type": "code",
   "execution_count": 19,
   "metadata": {
    "colab": {
     "base_uri": "https://localhost:8080/",
     "height": 170
    },
    "colab_type": "code",
    "id": "pa-OorY71cbs",
    "outputId": "5ebd0978-51dd-4d05-eafa-1da8b229e5f8"
   },
   "outputs": [
    {
     "data": {
      "text/plain": [
       "Index(['Administrative', 'Administrative_Duration', 'Informational',\n",
       "       'Informational_Duration', 'ProductRelated', 'ProductRelated_Duration',\n",
       "       'BounceRates', 'ExitRates', 'PageValues', 'SpecialDay',\n",
       "       'OperatingSystems', 'Browser', 'Region', 'TrafficType', 'Weekend',\n",
       "       'Month_Aug', 'Month_Dec', 'Month_Feb', 'Month_Jul', 'Month_June',\n",
       "       'Month_Mar', 'Month_May', 'Month_Nov', 'Month_Oct', 'Month_Sep',\n",
       "       'VisitorType_New_Visitor', 'VisitorType_Other',\n",
       "       'VisitorType_Returning_Visitor'],\n",
       "      dtype='object')"
      ]
     },
     "execution_count": 19,
     "metadata": {},
     "output_type": "execute_result"
    }
   ],
   "source": [
    "for dummy_column in dummy_columns:\n",
    "    del X[dummy_column]\n",
    "\n",
    "X.columns"
   ]
  },
  {
   "cell_type": "code",
   "execution_count": 21,
   "metadata": {
    "colab": {
     "base_uri": "https://localhost:8080/",
     "height": 34
    },
    "colab_type": "code",
    "id": "shLMEpwqBn5s",
    "outputId": "f64a4e52-7a93-4a61-f332-5fab8baac4d3"
   },
   "outputs": [
    {
     "data": {
      "text/plain": [
       "(12330, 28)"
      ]
     },
     "execution_count": 21,
     "metadata": {},
     "output_type": "execute_result"
    }
   ],
   "source": [
    "X.shape"
   ]
  },
  {
   "cell_type": "code",
   "execution_count": 22,
   "metadata": {
    "colab": {},
    "colab_type": "code",
    "id": "EcNY8v3WL6i8"
   },
   "outputs": [],
   "source": [
    "# # creating input features and target variables\n",
    "# X= dataset.iloc[:,0:8]\n",
    "# y= dataset.iloc[:,15]"
   ]
  },
  {
   "cell_type": "code",
   "execution_count": 23,
   "metadata": {
    "colab": {
     "base_uri": "https://localhost:8080/",
     "height": 131
    },
    "colab_type": "code",
    "id": "UF6nOoiiTOrf",
    "outputId": "6401c603-7c50-46b5-ffad-f6918db4baaf"
   },
   "outputs": [
    {
     "data": {
      "text/html": [
       "<div>\n",
       "<style scoped>\n",
       "    .dataframe tbody tr th:only-of-type {\n",
       "        vertical-align: middle;\n",
       "    }\n",
       "\n",
       "    .dataframe tbody tr th {\n",
       "        vertical-align: top;\n",
       "    }\n",
       "\n",
       "    .dataframe thead th {\n",
       "        text-align: right;\n",
       "    }\n",
       "</style>\n",
       "<table border=\"1\" class=\"dataframe\">\n",
       "  <thead>\n",
       "    <tr style=\"text-align: right;\">\n",
       "      <th></th>\n",
       "      <th>Administrative</th>\n",
       "      <th>Administrative_Duration</th>\n",
       "      <th>Informational</th>\n",
       "      <th>Informational_Duration</th>\n",
       "      <th>ProductRelated</th>\n",
       "      <th>ProductRelated_Duration</th>\n",
       "      <th>BounceRates</th>\n",
       "      <th>ExitRates</th>\n",
       "      <th>PageValues</th>\n",
       "      <th>SpecialDay</th>\n",
       "      <th>...</th>\n",
       "      <th>Month_Jul</th>\n",
       "      <th>Month_June</th>\n",
       "      <th>Month_Mar</th>\n",
       "      <th>Month_May</th>\n",
       "      <th>Month_Nov</th>\n",
       "      <th>Month_Oct</th>\n",
       "      <th>Month_Sep</th>\n",
       "      <th>VisitorType_New_Visitor</th>\n",
       "      <th>VisitorType_Other</th>\n",
       "      <th>VisitorType_Returning_Visitor</th>\n",
       "    </tr>\n",
       "  </thead>\n",
       "  <tbody>\n",
       "    <tr>\n",
       "      <th>0</th>\n",
       "      <td>0</td>\n",
       "      <td>0.0</td>\n",
       "      <td>0</td>\n",
       "      <td>0.0</td>\n",
       "      <td>1</td>\n",
       "      <td>0.0</td>\n",
       "      <td>0.2</td>\n",
       "      <td>0.2</td>\n",
       "      <td>0.0</td>\n",
       "      <td>0.0</td>\n",
       "      <td>...</td>\n",
       "      <td>0</td>\n",
       "      <td>0</td>\n",
       "      <td>0</td>\n",
       "      <td>0</td>\n",
       "      <td>0</td>\n",
       "      <td>0</td>\n",
       "      <td>0</td>\n",
       "      <td>0</td>\n",
       "      <td>0</td>\n",
       "      <td>1</td>\n",
       "    </tr>\n",
       "    <tr>\n",
       "      <th>1</th>\n",
       "      <td>0</td>\n",
       "      <td>0.0</td>\n",
       "      <td>0</td>\n",
       "      <td>0.0</td>\n",
       "      <td>2</td>\n",
       "      <td>64.0</td>\n",
       "      <td>0.0</td>\n",
       "      <td>0.1</td>\n",
       "      <td>0.0</td>\n",
       "      <td>0.0</td>\n",
       "      <td>...</td>\n",
       "      <td>0</td>\n",
       "      <td>0</td>\n",
       "      <td>0</td>\n",
       "      <td>0</td>\n",
       "      <td>0</td>\n",
       "      <td>0</td>\n",
       "      <td>0</td>\n",
       "      <td>0</td>\n",
       "      <td>0</td>\n",
       "      <td>1</td>\n",
       "    </tr>\n",
       "  </tbody>\n",
       "</table>\n",
       "<p>2 rows × 28 columns</p>\n",
       "</div>"
      ],
      "text/plain": [
       "   Administrative  Administrative_Duration  Informational  \\\n",
       "0               0                      0.0              0   \n",
       "1               0                      0.0              0   \n",
       "\n",
       "   Informational_Duration  ProductRelated  ProductRelated_Duration  \\\n",
       "0                     0.0               1                      0.0   \n",
       "1                     0.0               2                     64.0   \n",
       "\n",
       "   BounceRates  ExitRates  PageValues  SpecialDay  ...  Month_Jul  Month_June  \\\n",
       "0          0.2        0.2         0.0         0.0  ...          0           0   \n",
       "1          0.0        0.1         0.0         0.0  ...          0           0   \n",
       "\n",
       "   Month_Mar  Month_May  Month_Nov  Month_Oct  Month_Sep  \\\n",
       "0          0          0          0          0          0   \n",
       "1          0          0          0          0          0   \n",
       "\n",
       "   VisitorType_New_Visitor  VisitorType_Other  VisitorType_Returning_Visitor  \n",
       "0                        0                  0                              1  \n",
       "1                        0                  0                              1  \n",
       "\n",
       "[2 rows x 28 columns]"
      ]
     },
     "execution_count": 23,
     "metadata": {},
     "output_type": "execute_result"
    }
   ],
   "source": [
    "X.head(2)"
   ]
  },
  {
   "cell_type": "code",
   "execution_count": 24,
   "metadata": {
    "colab": {
     "base_uri": "https://localhost:8080/",
     "height": 238
    },
    "colab_type": "code",
    "id": "K8dOlxyFTY9Y",
    "outputId": "9d6567bc-b2b1-4770-cc4e-52a096d9b637"
   },
   "outputs": [
    {
     "name": "stderr",
     "output_type": "stream",
     "text": [
      "E:\\Anaconda3.7\\lib\\site-packages\\sklearn\\preprocessing\\data.py:645: DataConversionWarning: Data with input dtype uint8, int32, int64, float64 were all converted to float64 by StandardScaler.\n",
      "  return self.partial_fit(X, y)\n",
      "E:\\Anaconda3.7\\lib\\site-packages\\sklearn\\base.py:464: DataConversionWarning: Data with input dtype uint8, int32, int64, float64 were all converted to float64 by StandardScaler.\n",
      "  return self.fit(X, **fit_params).transform(X)\n"
     ]
    },
    {
     "data": {
      "text/plain": [
       "array([[-0.69699296, -0.4571914 , -0.3964779 , ..., -0.39908696,\n",
       "        -0.08331632,  0.41062101],\n",
       "       [-0.69699296, -0.4571914 , -0.3964779 , ..., -0.39908696,\n",
       "        -0.08331632,  0.41062101],\n",
       "       [-0.69699296, -0.4571914 , -0.3964779 , ..., -0.39908696,\n",
       "        -0.08331632,  0.41062101],\n",
       "       ...,\n",
       "       [-0.69699296, -0.4571914 , -0.3964779 , ..., -0.39908696,\n",
       "        -0.08331632,  0.41062101],\n",
       "       [ 0.50722805, -0.03291592, -0.3964779 , ..., -0.39908696,\n",
       "        -0.08331632,  0.41062101],\n",
       "       [-0.69699296, -0.4571914 , -0.3964779 , ...,  2.50571955,\n",
       "        -0.08331632, -2.43533571]])"
      ]
     },
     "execution_count": 24,
     "metadata": {},
     "output_type": "execute_result"
    }
   ],
   "source": [
    "#standardizing the input feature to maintain the same scale\n",
    "from sklearn.preprocessing import StandardScaler\n",
    "sc = StandardScaler()\n",
    "X = sc.fit_transform(X)\n",
    "X"
   ]
  },
  {
   "cell_type": "code",
   "execution_count": 25,
   "metadata": {
    "colab": {},
    "colab_type": "code",
    "id": "O_kId6OpTeWi"
   },
   "outputs": [],
   "source": [
    "from sklearn.model_selection import train_test_split\n",
    "X_train, X_test, y_train, y_test = train_test_split(X, y, test_size=0.2)"
   ]
  },
  {
   "cell_type": "code",
   "execution_count": 26,
   "metadata": {
    "colab": {
     "base_uri": "https://localhost:8080/",
     "height": 34
    },
    "colab_type": "code",
    "id": "BFf82xE_VIpQ",
    "outputId": "bd74f861-37c2-4e7d-b07d-7952d4a7d40d"
   },
   "outputs": [
    {
     "data": {
      "text/plain": [
       "(9864, 28)"
      ]
     },
     "execution_count": 26,
     "metadata": {},
     "output_type": "execute_result"
    }
   ],
   "source": [
    "X_train.shape"
   ]
  },
  {
   "cell_type": "code",
   "execution_count": 27,
   "metadata": {
    "colab": {
     "base_uri": "https://localhost:8080/",
     "height": 34
    },
    "colab_type": "code",
    "id": "aCM9ovfHV2uE",
    "outputId": "e1d7c1c3-df8e-4397-f619-72abcb097b60"
   },
   "outputs": [
    {
     "data": {
      "text/plain": [
       "(9864,)"
      ]
     },
     "execution_count": 27,
     "metadata": {},
     "output_type": "execute_result"
    }
   ],
   "source": [
    "y_train.shape"
   ]
  },
  {
   "cell_type": "code",
   "execution_count": 28,
   "metadata": {},
   "outputs": [
    {
     "data": {
      "text/plain": [
       "0    0.85807\n",
       "1    0.14193\n",
       "Name: Revenue, dtype: float64"
      ]
     },
     "execution_count": 28,
     "metadata": {},
     "output_type": "execute_result"
    }
   ],
   "source": [
    "y_train.value_counts()\n",
    "y_test.value_counts()/y_test.value_counts().sum()"
   ]
  },
  {
   "cell_type": "markdown",
   "metadata": {},
   "source": [
    "##### 0.85807\n",
    "This means that a baseline model always predicts class/label 0 ,would be right 84.6% of the time"
   ]
  },
  {
   "cell_type": "markdown",
   "metadata": {},
   "source": [
    "we need to  Build a model , compile and fit using loss function binary_crossEntropy, optimizer - Adam.\n",
    " Accuracy is considered as a metric for the classification problem"
   ]
  },
  {
   "cell_type": "code",
   "execution_count": 29,
   "metadata": {},
   "outputs": [
    {
     "name": "stdout",
     "output_type": "stream",
     "text": [
      "WARNING:tensorflow:From E:\\Anaconda3.7\\lib\\site-packages\\tensorflow\\python\\framework\\op_def_library.py:263: colocate_with (from tensorflow.python.framework.ops) is deprecated and will be removed in a future version.\n",
      "Instructions for updating:\n",
      "Colocations handled automatically by placer.\n",
      "WARNING:tensorflow:From E:\\Anaconda3.7\\lib\\site-packages\\tensorflow\\python\\ops\\math_ops.py:3066: to_int32 (from tensorflow.python.ops.math_ops) is deprecated and will be removed in a future version.\n",
      "Instructions for updating:\n",
      "Use tf.cast instead.\n"
     ]
    },
    {
     "name": "stderr",
     "output_type": "stream",
     "text": [
      "Using TensorFlow backend.\n"
     ]
    },
    {
     "name": "stdout",
     "output_type": "stream",
     "text": [
      "Epoch 1/50\n",
      "12330/12330 [==============================] - 1s 98us/step - loss: 0.3358 - acc: 0.8617\n",
      "Epoch 2/50\n",
      "12330/12330 [==============================] - 1s 66us/step - loss: 0.2658 - acc: 0.8904\n",
      "Epoch 3/50\n",
      "12330/12330 [==============================] - 1s 84us/step - loss: 0.2526 - acc: 0.8955\n",
      "Epoch 4/50\n",
      "12330/12330 [==============================] - 1s 76us/step - loss: 0.2443 - acc: 0.8966\n",
      "Epoch 5/50\n",
      "12330/12330 [==============================] - 1s 74us/step - loss: 0.2386 - acc: 0.8988\n",
      "Epoch 6/50\n",
      "12330/12330 [==============================] - 1s 75us/step - loss: 0.2341 - acc: 0.9001\n",
      "Epoch 7/50\n",
      "12330/12330 [==============================] - 1s 84us/step - loss: 0.2316 - acc: 0.9022\n",
      "Epoch 8/50\n",
      "12330/12330 [==============================] - 1s 81us/step - loss: 0.2297 - acc: 0.9033\n",
      "Epoch 9/50\n",
      "12330/12330 [==============================] - 1s 82us/step - loss: 0.2276 - acc: 0.9041\n",
      "Epoch 10/50\n",
      "12330/12330 [==============================] - 1s 73us/step - loss: 0.2264 - acc: 0.9048\n",
      "Epoch 11/50\n",
      "12330/12330 [==============================] - 1s 81us/step - loss: 0.2255 - acc: 0.9048\n",
      "Epoch 12/50\n",
      "12330/12330 [==============================] - 1s 85us/step - loss: 0.2247 - acc: 0.9065\n",
      "Epoch 13/50\n",
      "12330/12330 [==============================] - 1s 86us/step - loss: 0.2236 - acc: 0.9066\n",
      "Epoch 14/50\n",
      "12330/12330 [==============================] - 1s 76us/step - loss: 0.2229 - acc: 0.9071\n",
      "Epoch 15/50\n",
      "12330/12330 [==============================] - 1s 75us/step - loss: 0.2222 - acc: 0.9072\n",
      "Epoch 16/50\n",
      "12330/12330 [==============================] - 1s 63us/step - loss: 0.2217 - acc: 0.9071\n",
      "Epoch 17/50\n",
      "12330/12330 [==============================] - 1s 64us/step - loss: 0.2212 - acc: 0.9072\n",
      "Epoch 18/50\n",
      "12330/12330 [==============================] - 1s 63us/step - loss: 0.2208 - acc: 0.9076\n",
      "Epoch 19/50\n",
      "12330/12330 [==============================] - 1s 63us/step - loss: 0.2204 - acc: 0.9067\n",
      "Epoch 20/50\n",
      "12330/12330 [==============================] - 1s 63us/step - loss: 0.2199 - acc: 0.9052\n",
      "Epoch 21/50\n",
      "12330/12330 [==============================] - 1s 63us/step - loss: 0.2192 - acc: 0.9063\n",
      "Epoch 22/50\n",
      "12330/12330 [==============================] - 1s 64us/step - loss: 0.2196 - acc: 0.9080\n",
      "Epoch 23/50\n",
      "12330/12330 [==============================] - 1s 65us/step - loss: 0.2191 - acc: 0.9059\n",
      "Epoch 24/50\n",
      "12330/12330 [==============================] - 1s 69us/step - loss: 0.2187 - acc: 0.9082\n",
      "Epoch 25/50\n",
      "12330/12330 [==============================] - 1s 73us/step - loss: 0.2186 - acc: 0.9068\n",
      "Epoch 26/50\n",
      "12330/12330 [==============================] - 1s 80us/step - loss: 0.2182 - acc: 0.9066\n",
      "Epoch 27/50\n",
      "12330/12330 [==============================] - 1s 79us/step - loss: 0.2178 - acc: 0.9078\n",
      "Epoch 28/50\n",
      "12330/12330 [==============================] - 1s 77us/step - loss: 0.2171 - acc: 0.9075\n",
      "Epoch 29/50\n",
      "12330/12330 [==============================] - 1s 88us/step - loss: 0.2177 - acc: 0.9069\n",
      "Epoch 30/50\n",
      "12330/12330 [==============================] - 1s 66us/step - loss: 0.2177 - acc: 0.9066\n",
      "Epoch 31/50\n",
      "12330/12330 [==============================] - 1s 75us/step - loss: 0.2171 - acc: 0.9075\n",
      "Epoch 32/50\n",
      "12330/12330 [==============================] - 1s 87us/step - loss: 0.2170 - acc: 0.9069\n",
      "Epoch 33/50\n",
      "12330/12330 [==============================] - 1s 76us/step - loss: 0.2167 - acc: 0.9088\n",
      "Epoch 34/50\n",
      "12330/12330 [==============================] - 1s 75us/step - loss: 0.2163 - acc: 0.9072\n",
      "Epoch 35/50\n",
      "12330/12330 [==============================] - 1s 64us/step - loss: 0.2160 - acc: 0.9070\n",
      "Epoch 36/50\n",
      "12330/12330 [==============================] - 1s 64us/step - loss: 0.2161 - acc: 0.9079\n",
      "Epoch 37/50\n",
      "12330/12330 [==============================] - 1s 65us/step - loss: 0.2158 - acc: 0.9071\n",
      "Epoch 38/50\n",
      "12330/12330 [==============================] - 1s 65us/step - loss: 0.2158 - acc: 0.9077\n",
      "Epoch 39/50\n",
      "12330/12330 [==============================] - 1s 67us/step - loss: 0.2158 - acc: 0.9074\n",
      "Epoch 40/50\n",
      "12330/12330 [==============================] - 1s 82us/step - loss: 0.2154 - acc: 0.9079\n",
      "Epoch 41/50\n",
      "12330/12330 [==============================] - 1s 78us/step - loss: 0.2152 - acc: 0.9063\n",
      "Epoch 42/50\n",
      "12330/12330 [==============================] - 1s 78us/step - loss: 0.2153 - acc: 0.9071\n",
      "Epoch 43/50\n",
      "12330/12330 [==============================] - 1s 66us/step - loss: 0.2155 - acc: 0.9080\n",
      "Epoch 44/50\n",
      "12330/12330 [==============================] - 1s 66us/step - loss: 0.2153 - acc: 0.9068\n",
      "Epoch 45/50\n",
      "12330/12330 [==============================] - 1s 65us/step - loss: 0.2147 - acc: 0.9093\n",
      "Epoch 46/50\n",
      "12330/12330 [==============================] - 1s 67us/step - loss: 0.2140 - acc: 0.9083\n",
      "Epoch 47/50\n",
      "12330/12330 [==============================] - 1s 64us/step - loss: 0.2142 - acc: 0.9081\n",
      "Epoch 48/50\n",
      "12330/12330 [==============================] - 1s 66us/step - loss: 0.2139 - acc: 0.9074\n",
      "Epoch 49/50\n",
      "12330/12330 [==============================] - 1s 64us/step - loss: 0.2137 - acc: 0.9082\n",
      "Epoch 50/50\n",
      "12330/12330 [==============================] - 1s 65us/step - loss: 0.2139 - acc: 0.9082\n",
      "12330/12330 [==============================] - 0s 12us/step\n",
      "\n",
      "acc: 90.77%\n"
     ]
    }
   ],
   "source": [
    "# create model\n",
    "from keras.models import Sequential\n",
    "from keras.layers import Dense, Dropout\n",
    "model = Sequential()\n",
    "model.add(Dense(14 ,input_dim=28, activation='relu'))\n",
    "#model.add(Dense(8, activation='relu'))\n",
    "model.add(Dense(1, activation='sigmoid'))\n",
    "# Compile model\n",
    "model.compile(loss='binary_crossentropy', optimizer='adam', metrics=['accuracy'])\n",
    "# Fit the model\n",
    "model.fit(X, y, epochs=50,batch_size=10)\n",
    "# evaluate the model\n",
    "scores = model.evaluate(X, y)\n",
    "print(\"\\n%s: %.2f%%\" % (model.metrics_names[1], scores[1]*100))"
   ]
  },
  {
   "cell_type": "code",
   "execution_count": 38,
   "metadata": {
    "colab": {
     "base_uri": "https://localhost:8080/",
     "height": 238
    },
    "colab_type": "code",
    "id": "P0lxzia8ToHx",
    "outputId": "2c8f373d-ce47-44ef-fa31-8b7a8a098850"
   },
   "outputs": [
    {
     "name": "stdout",
     "output_type": "stream",
     "text": [
      "_________________________________________________________________\n",
      "Layer (type)                 Output Shape              Param #   \n",
      "=================================================================\n",
      "dense_5 (Dense)              (None, 14)                406       \n",
      "_________________________________________________________________\n",
      "dense_7 (Dense)              (None, 1)                 15        \n",
      "=================================================================\n",
      "Total params: 421\n",
      "Trainable params: 421\n",
      "Non-trainable params: 0\n",
      "_________________________________________________________________\n"
     ]
    }
   ],
   "source": [
    "from keras import Sequential\n",
    "from keras.layers import Dense\n",
    "model2 = Sequential()\n",
    "#First Hidden Layer\n",
    "model2.add(Dense(14, activation='relu',input_dim=28))\n",
    "#Second  Hidden Layer\n",
    "model.add(Dense(14, activation=tf.nn.relu))\n",
    "model2.add(Dense(1, activation=tf.nn.sigmoid))\n",
    "\n",
    "model2.summary()"
   ]
  },
  {
   "cell_type": "code",
   "execution_count": 39,
   "metadata": {
    "colab": {},
    "colab_type": "code",
    "id": "CaBV90BLUNPM"
   },
   "outputs": [],
   "source": [
    "#Compiling the neural network\n",
    "model2.compile(optimizer ='adam',loss='binary_crossentropy', metrics =['accuracy'])\n"
   ]
  },
  {
   "cell_type": "code",
   "execution_count": 42,
   "metadata": {
    "colab": {
     "base_uri": "https://localhost:8080/",
     "height": 921
    },
    "colab_type": "code",
    "id": "oSef4ksAUYk8",
    "outputId": "c1e69783-19ec-44bf-e1ed-19e808245c82"
   },
   "outputs": [
    {
     "name": "stdout",
     "output_type": "stream",
     "text": [
      "Train on 9864 samples, validate on 2466 samples\n",
      "Epoch 1/10\n",
      "9864/9864 [==============================] - 1s 122us/step - loss: 0.2218 - acc: 0.9052 - val_loss: 0.2395 - val_acc: 0.8954\n",
      "Epoch 2/10\n",
      "9864/9864 [==============================] - 1s 123us/step - loss: 0.2219 - acc: 0.9062 - val_loss: 0.2381 - val_acc: 0.8974\n",
      "Epoch 3/10\n",
      "9864/9864 [==============================] - 1s 120us/step - loss: 0.2208 - acc: 0.9056 - val_loss: 0.2370 - val_acc: 0.8933\n",
      "Epoch 4/10\n",
      "9864/9864 [==============================] - 1s 105us/step - loss: 0.2204 - acc: 0.9066 - val_loss: 0.2376 - val_acc: 0.8938\n",
      "Epoch 5/10\n",
      "9864/9864 [==============================] - 1s 120us/step - loss: 0.2203 - acc: 0.9060 - val_loss: 0.2387 - val_acc: 0.8950\n",
      "Epoch 6/10\n",
      "9864/9864 [==============================] - 1s 125us/step - loss: 0.2197 - acc: 0.9064 - val_loss: 0.2389 - val_acc: 0.8946\n",
      "Epoch 7/10\n",
      "9864/9864 [==============================] - 1s 121us/step - loss: 0.2191 - acc: 0.9064 - val_loss: 0.2381 - val_acc: 0.8933\n",
      "Epoch 8/10\n",
      "9864/9864 [==============================] - 1s 121us/step - loss: 0.2184 - acc: 0.9067 - val_loss: 0.2366 - val_acc: 0.8950\n",
      "Epoch 9/10\n",
      "9864/9864 [==============================] - 1s 118us/step - loss: 0.2183 - acc: 0.9075 - val_loss: 0.2360 - val_acc: 0.8958\n",
      "Epoch 10/10\n",
      "9864/9864 [==============================] - 1s 119us/step - loss: 0.2185 - acc: 0.9078 - val_loss: 0.2350 - val_acc: 0.8946\n"
     ]
    }
   ],
   "source": [
    "#Fitting the data to the training dataset\n",
    "history = model2.fit(X_train,y_train, batch_size=10, epochs=10,validation_data = (X_test, y_test))\n"
   ]
  },
  {
   "cell_type": "markdown",
   "metadata": {},
   "source": [
    "The validation accuracy with this model is 89% which is better than base line "
   ]
  },
  {
   "cell_type": "code",
   "execution_count": 43,
   "metadata": {
    "colab": {
     "base_uri": "https://localhost:8080/",
     "height": 34
    },
    "colab_type": "code",
    "id": "DJjbaCxZZXli",
    "outputId": "d33eafdc-d5a7-42ed-ee16-fb7fbbe96a7b"
   },
   "outputs": [
    {
     "data": {
      "text/plain": [
       "dict_keys(['val_loss', 'val_acc', 'loss', 'acc'])"
      ]
     },
     "execution_count": 43,
     "metadata": {},
     "output_type": "execute_result"
    }
   ],
   "source": [
    "history_dict = history.history\n",
    "history_dict.keys()"
   ]
  },
  {
   "cell_type": "code",
   "execution_count": 46,
   "metadata": {
    "colab": {
     "base_uri": "https://localhost:8080/",
     "height": 295
    },
    "colab_type": "code",
    "id": "-D9HPdghZ52E",
    "outputId": "1fe0934f-18ed-4b7f-a699-d7b43b846fb0"
   },
   "outputs": [
    {
     "data": {
      "image/png": "[encoded data removed]",
      "text/plain": [
       "<Figure size 432x288 with 1 Axes>"
      ]
     },
     "metadata": {
      "needs_background": "light"
     },
     "output_type": "display_data"
    },
    {
     "data": {
      "image/png": "[encoded data removed]",
      "text/plain": [
       "<Figure size 432x288 with 1 Axes>"
      ]
     },
     "metadata": {
      "needs_background": "light"
     },
     "output_type": "display_data"
    }
   ],
   "source": [
    "import matplotlib.pyplot as plt\n",
    "\n",
    "acc = history_dict['acc']\n",
    "val_acc = history_dict['val_acc']\n",
    "loss = history_dict['loss']\n",
    "val_loss = history_dict['val_loss']\n",
    "\n",
    "epochs = range(1, len(acc) + 1)\n",
    "\n",
    "# \"bo\" is for \"blue dot\"\n",
    "plt.plot(epochs, loss, 'g', label='Training loss')\n",
    "# b is for \"solid blue line\"\n",
    "plt.plot(epochs, val_loss, 'b', label='Validation loss')\n",
    "plt.title('Training and validation loss')\n",
    "plt.xlabel('Epochs')\n",
    "plt.ylabel('Loss')\n",
    "plt.legend()\n",
    "\n",
    "plt.show()\n",
    "\n",
    "plt.plot(epochs, acc, 'g', label='Training acc')\n",
    "plt.plot(epochs, val_acc, 'b', label='Validation acc')\n",
    "plt.title('Training and validation accuracy')\n",
    "plt.xlabel('Epochs')\n",
    "plt.ylabel('Accuracy')\n",
    "plt.legend()\n",
    "\n",
    "plt.show()"
   ]
  },
  {
   "cell_type": "markdown",
   "metadata": {},
   "source": [
    "From the above plot we can see that the training accuracy increases with each epoch. This is expected when using a gradient descent optimization—it should minimize the desired quantity on every iteration.\n",
    "In the case for the validation loss and accuracy,the model performs better on the training data than it does on data it has never seen before."
   ]
  },
  {
   "cell_type": "code",
   "execution_count": 35,
   "metadata": {},
   "outputs": [
    {
     "data": {
      "image/png": "[encoded data removed]",
      "text/plain": [
       "<Figure size 432x288 with 1 Axes>"
      ]
     },
     "metadata": {
      "needs_background": "light"
     },
     "output_type": "display_data"
    }
   ],
   "source": [
    "import matplotlib.pyplot as plt\n",
    "\n",
    "def plot_history(history):\n",
    "  plt.figure()\n",
    "  plt.xlabel('Epoch')\n",
    "  plt.ylabel('Accuracy')\n",
    "  plt.plot(history.epoch, np.array(history.history['acc']),\n",
    "           label='Train Accuracy')\n",
    "  plt.plot(history.epoch, np.array(history.history['val_acc']),\n",
    "           label = 'Val Accuracy')\n",
    "  plt.legend()\n",
    "    \n",
    "plot_history(history)   "
   ]
  },
  {
   "cell_type": "markdown",
   "metadata": {},
   "source": [
    "When done on the validation data,the values started picking up at 88 and then maintained the same values meaning that the model has  memorized the data."
   ]
  },
  {
   "cell_type": "code",
   "execution_count": 36,
   "metadata": {
    "colab": {},
    "colab_type": "code",
    "id": "hwmHNKxuWxKv"
   },
   "outputs": [],
   "source": [
    "y_pred=model.predict(X_test)\n",
    "y_pred =(y_pred>0.5)"
   ]
  },
  {
   "cell_type": "code",
   "execution_count": 37,
   "metadata": {
    "colab": {
     "base_uri": "https://localhost:8080/",
     "height": 34
    },
    "colab_type": "code",
    "id": "QEb4KTc5W3Pn",
    "outputId": "0911497b-70f1-4b0c-8b3d-e060a8d57099"
   },
   "outputs": [
    {
     "name": "stdout",
     "output_type": "stream",
     "text": [
      "[[2013  103]\n",
      " [ 145  205]]\n"
     ]
    }
   ],
   "source": [
    "from sklearn.metrics import confusion_matrix\n",
    "cm = confusion_matrix(y_test, y_pred)\n",
    "print(cm)"
   ]
  }
 ],
 "metadata": {
  "colab": {
   "collapsed_sections": [],
   "name": "classification.ipynb",
   "provenance": [],
   "version": "0.3.2"
  },
  "kernelspec": {
   "display_name": "Python 3",
   "language": "python",
   "name": "python3"
  },
  "language_info": {
   "codemirror_mode": {
    "name": "ipython",
    "version": 3
   },
   "file_extension": ".py",
   "mimetype": "text/x-python",
   "name": "python",
   "nbconvert_exporter": "python",
   "pygments_lexer": "ipython3",
   "version": "3.7.3"
  }
 },
 "nbformat": 4,
 "nbformat_minor": 1
}
